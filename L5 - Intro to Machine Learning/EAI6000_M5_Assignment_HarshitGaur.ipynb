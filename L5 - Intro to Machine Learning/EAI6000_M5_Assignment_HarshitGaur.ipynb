{
 "cells": [
  {
   "cell_type": "markdown",
   "id": "613509df",
   "metadata": {},
   "source": [
    "### Import the required Libraries"
   ]
  },
  {
   "cell_type": "code",
   "execution_count": 75,
   "metadata": {},
   "outputs": [],
   "source": [
    "# Required Libraries\n",
    "import numpy as np\n",
    "import pandas as pd\n",
    "import seaborn as sns\n",
    "import matplotlib.pyplot as plt\n",
    "\n",
    "# For Logistic Regression and K-Fold Cross Validation\n",
    "from numpy import mean\n",
    "from numpy import std\n",
    "from sklearn.datasets import make_classification\n",
    "from sklearn.model_selection import RepeatedKFold\n",
    "from sklearn.model_selection import cross_val_score\n",
    "from sklearn.linear_model import LogisticRegression\n",
    "\n",
    "from sklearn.model_selection import KFold\n",
    "from sklearn.model_selection import GridSearchCV\n",
    "from sklearn.metrics import accuracy_score"
   ]
  },
  {
   "cell_type": "markdown",
   "id": "eec9c9f2",
   "metadata": {},
   "source": [
    "## Usage of Repeated K-Fold Cross Validation Technique"
   ]
  },
  {
   "cell_type": "markdown",
   "id": "46b036d1",
   "metadata": {},
   "source": [
    "### Generate a Dictionary of Random Numbers using a parameter"
   ]
  },
  {
   "cell_type": "code",
   "execution_count": 76,
   "id": "5d3119c4",
   "metadata": {},
   "outputs": [],
   "source": [
    "import random\n",
    "mydict = dict()\n",
    "def rand_dict(n):\n",
    "    from random import randrange\n",
    "    for i in range(n):\n",
    "        mydict[i+2] = random.randrange(1, n)\n",
    "    return mydict"
   ]
  },
  {
   "cell_type": "markdown",
   "id": "296545ac",
   "metadata": {},
   "source": [
    "### Create a Classification Dataset for the Logistic Regression Model"
   ]
  },
  {
   "cell_type": "code",
   "execution_count": 77,
   "id": "94f242f5",
   "metadata": {},
   "outputs": [],
   "source": [
    "# Create the Dataset\n",
    "X, y = make_classification(n_samples=2000, n_features=25, random_state=1, n_informative=12, n_redundant=13)\n",
    "\n",
    "# Create Logistic Regression Model\n",
    "model = LogisticRegression()\n",
    "\n",
    "# Enumerate Final Result\n",
    "final_results = dict()"
   ]
  },
  {
   "cell_type": "markdown",
   "id": "838ed19a",
   "metadata": {},
   "source": [
    "### Configure and Process the K-Fold Cross-Validation Procedure"
   ]
  },
  {
   "cell_type": "code",
   "execution_count": 78,
   "metadata": {},
   "outputs": [
    {
     "name": "stdout",
     "output_type": "stream",
     "text": [
      "Accuracy: 0.885 (0.007), Number of Splits: 2, Number of Repeats: 10, Random State: 1\n",
      "Accuracy: 0.886 (0.010), Number of Splits: 3, Number of Repeats: 15, Random State: 1\n",
      "Accuracy: 0.886 (0.013), Number of Splits: 4, Number of Repeats: 14, Random State: 1\n",
      "Accuracy: 0.886 (0.013), Number of Splits: 5, Number of Repeats: 14, Random State: 1\n",
      "Accuracy: 0.887 (0.018), Number of Splits: 6, Number of Repeats: 4, Random State: 1\n",
      "Accuracy: 0.886 (0.017), Number of Splits: 7, Number of Repeats: 17, Random State: 1\n",
      "Accuracy: 0.886 (0.019), Number of Splits: 8, Number of Repeats: 14, Random State: 1\n",
      "Accuracy: 0.886 (0.023), Number of Splits: 9, Number of Repeats: 5, Random State: 1\n",
      "Accuracy: 0.885 (0.021), Number of Splits: 10, Number of Repeats: 19, Random State: 1\n",
      "Accuracy: 0.886 (0.023), Number of Splits: 11, Number of Repeats: 18, Random State: 1\n",
      "Accuracy: 0.886 (0.025), Number of Splits: 12, Number of Repeats: 17, Random State: 1\n",
      "Accuracy: 0.886 (0.026), Number of Splits: 13, Number of Repeats: 16, Random State: 1\n",
      "Accuracy: 0.886 (0.026), Number of Splits: 14, Number of Repeats: 11, Random State: 1\n",
      "Accuracy: 0.885 (0.027), Number of Splits: 15, Number of Repeats: 10, Random State: 1\n",
      "Accuracy: 0.886 (0.029), Number of Splits: 16, Number of Repeats: 7, Random State: 1\n",
      "Accuracy: 0.886 (0.028), Number of Splits: 17, Number of Repeats: 19, Random State: 1\n",
      "Accuracy: 0.886 (0.031), Number of Splits: 18, Number of Repeats: 4, Random State: 1\n",
      "Accuracy: 0.886 (0.031), Number of Splits: 19, Number of Repeats: 14, Random State: 1\n",
      "Accuracy: 0.887 (0.032), Number of Splits: 20, Number of Repeats: 4, Random State: 1\n",
      "Accuracy: 0.886 (0.032), Number of Splits: 21, Number of Repeats: 16, Random State: 1\n"
     ]
    }
   ],
   "source": [
    "\n",
    "for i,j in rand_dict(20).items():\n",
    "\n",
    "\t# K-Fold Cross Validation Technique\n",
    "\tcv = RepeatedKFold(n_splits = i, n_repeats = j, random_state = 1)\n",
    "\t\n",
    "\t# Evaluate Model\n",
    "\tscores = cross_val_score(model, X, y, scoring='accuracy', cv=cv, n_jobs=-1)\n",
    "\n",
    "\t# Report the Performance\n",
    "\tprint('Accuracy: %.3f (%.3f), Number of Splits: %i, Number of Repeats: %i, Random State: %i' % (mean(scores), std(scores), i, j, 1))\n",
    "\t\n",
    "\tfinal_results.update({\n",
    "\t\tmean(scores): str(round(mean(scores), 4)) + \" (\" + str(round(std(scores), 4)) + \"), Number of Splits: \" + str(i) + \", Number of Repeats: \" + str(j) + \", Random State: 1\"\n",
    "\t})\n",
    "\t"
   ]
  },
  {
   "cell_type": "markdown",
   "id": "9f744d34",
   "metadata": {},
   "source": [
    "### Best Accuracy after modifying the parameters of the K-Fold Cross Validation Technique"
   ]
  },
  {
   "cell_type": "code",
   "execution_count": 79,
   "id": "2c081b61",
   "metadata": {},
   "outputs": [
    {
     "name": "stdout",
     "output_type": "stream",
     "text": [
      "Improved Best Accuracy : \n",
      " 0.8868 (0.0319), Number of Splits: 20, Number of Repeats: 4, Random State: 1\n"
     ]
    }
   ],
   "source": [
    "print(\"Improved Best Accuracy : \\n\", final_results[max(final_results)])"
   ]
  }
 ],
 "metadata": {
  "interpreter": {
   "hash": "f8594b24c37692db55ff3d81b921d1571d31b17b39641932a013aefdfbad5308"
  },
  "kernelspec": {
   "display_name": "Python 3.8.11 ('base')",
   "language": "python",
   "name": "python3"
  },
  "language_info": {
   "codemirror_mode": {
    "name": "ipython",
    "version": 3
   },
   "file_extension": ".py",
   "mimetype": "text/x-python",
   "name": "python",
   "nbconvert_exporter": "python",
   "pygments_lexer": "ipython3",
   "version": "3.8.11"
  }
 },
 "nbformat": 4,
 "nbformat_minor": 5
}
