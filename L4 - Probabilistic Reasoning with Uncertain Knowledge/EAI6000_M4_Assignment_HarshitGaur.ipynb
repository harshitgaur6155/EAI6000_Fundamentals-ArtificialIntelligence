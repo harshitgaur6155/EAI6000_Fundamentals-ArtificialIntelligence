{
  "nbformat": 4,
  "nbformat_minor": 0,
  "metadata": {
    "colab": {
      "name": "eai6000_m04_hw.ipynb",
      "provenance": [],
      "collapsed_sections": [],
      "toc_visible": true
    },
    "kernelspec": {
      "name": "python3",
      "display_name": "Python 3"
    },
    "language_info": {
      "name": "python"
    }
  },
  "cells": [
    {
      "cell_type": "markdown",
      "source": [
        "# Weather Model"
      ],
      "metadata": {
        "id": "ptowb9ItHGHf"
      }
    },
    {
      "cell_type": "markdown",
      "metadata": {
        "id": "Xzbe41iVrdkn"
      },
      "source": [
        "## Directions\n",
        "\n",
        "For this project, you will need to implement a filtering  inference task on an HMM. These are described in Section 15.2 of the text.\n",
        "\n",
        "Denote the hidden states of the HMM by `S(t)` and the observations (evidence) by `E(t)`. In the weather problem from the HMM Tutorial, X(t) would be either sunny, rainy, or foggy, and `E(t)` is yes or no to indicate if an umbrella was observed. We will use this model with prior probabilities P(sunny) = 0.5, P(rainy) = 0.25, P(foggy) = 0.25. The remaining probilities you need are specified below in the emisssion (`P_emission`) and transition matrices (`P_transition`).\n",
        "\n",
        "## What you need to do\n",
        "\n",
        "You will need to fill in the missing implementations of the following functions in the code where specified by the comments (`### YOUR CODE HERE ###`) and answer the questions where indicated.\n",
        "\n",
        "In implementing the code for the filtering task, you will be computing the probability of rain given the observations of the umbrella."
      ]
    },
    {
      "cell_type": "markdown",
      "source": [
        "## Probability Definitions\n",
        "Below you will find:\n",
        "- `P_init`: The initial probabilities of the weather state, whether sunny (0), rainy (1) or foggy (2) \n",
        "- `P_transition`: The transition probabilities or the probability that one weather state one day transitions to another weather state \n",
        "- `P_emission`: The 'emission' probabilities or the probabilities that an observation is made, conditioned on the underlying state."
      ],
      "metadata": {
        "id": "lgFmif62JksI"
      }
    },
    {
      "cell_type": "code",
      "metadata": {
        "id": "t3cwslrxsF_q"
      },
      "source": [
        "### DO NOT CHANGE ###\n",
        "\n",
        "import numpy as np\n",
        "\n",
        "# prior probability on weather states\n",
        "# P(sunny) = 0.5  P(rainy) = 0.25  P(foggy) = 0.25\n",
        "P_init = np.array([0.5, 0.25, 0.25])\n",
        "\n",
        "# states (0=sunny, 1=rainy, 2=foggy)\n",
        "S = [0, 1, 2]\n",
        "\n",
        "# transition probabilities\n",
        "#                    tomorrrow\n",
        "#    today     sunny  rainy  foggy\n",
        "#    sunny      0.8    0.05   0.15\n",
        "#    rainy      0.2    0.6    0.2 \n",
        "#    foggy      0.2    0.3    0.5\n",
        "P_transition = np.array([ [0.8, 0.05, 0.15], [0.2, 0.6, 0.2], [0.2, 0.3, 0.5] ])\n",
        "\n",
        "# conditional probabilities of evidence (observations) given weather\n",
        "#                            sunny  rainy  foggy \n",
        "# P(weather | umbrella=no)    0.9    0.2    0.7\n",
        "# P(weather | umbrella=yes)   0.1    0.8    0.3\n",
        "P_emission = np.array([ [0.9, 0.2, 0.7], [0.1, 0.8, 0.3] ])"
      ],
      "execution_count": 18,
      "outputs": []
    },
    {
      "cell_type": "markdown",
      "source": [
        "## Importing Libraries"
      ],
      "metadata": {
        "id": "7ynaD-JCrIVj"
      }
    },
    {
      "cell_type": "code",
      "source": [
        "!git clone https://github.com/aimacode/aima-python\n",
        "!git clone https://github.com/aimacode/aima-data"
      ],
      "metadata": {
        "colab": {
          "base_uri": "https://localhost:8080/"
        },
        "id": "a1ouJGK-rHFj",
        "outputId": "da30d70d-97fd-4fc5-efb6-78b662cda60e"
      },
      "execution_count": 19,
      "outputs": [
        {
          "output_type": "stream",
          "name": "stdout",
          "text": [
            "fatal: destination path 'aima-python' already exists and is not an empty directory.\n",
            "fatal: destination path 'aima-data' already exists and is not an empty directory.\n"
          ]
        }
      ]
    },
    {
      "cell_type": "code",
      "source": [
        "!cp aima-python/*.py .\n",
        "!cp -R aima-data/* ."
      ],
      "metadata": {
        "id": "W3rTRmPNrXtw"
      },
      "execution_count": 20,
      "outputs": []
    },
    {
      "cell_type": "code",
      "source": [
        "pip install ipythonblocks"
      ],
      "metadata": {
        "colab": {
          "base_uri": "https://localhost:8080/"
        },
        "id": "ZgQTPl2nrqki",
        "outputId": "3fa09428-c8a3-44de-9709-8339e7c2fac0"
      },
      "execution_count": 21,
      "outputs": [
        {
          "output_type": "stream",
          "name": "stdout",
          "text": [
            "Requirement already satisfied: ipythonblocks in /usr/local/lib/python3.7/dist-packages (1.9.0)\n",
            "Requirement already satisfied: ipython>=4.0 in /usr/local/lib/python3.7/dist-packages (from ipythonblocks) (5.5.0)\n",
            "Requirement already satisfied: notebook>=4.0 in /usr/local/lib/python3.7/dist-packages (from ipythonblocks) (5.3.1)\n",
            "Requirement already satisfied: requests>=1.0 in /usr/local/lib/python3.7/dist-packages (from ipythonblocks) (2.23.0)\n",
            "Requirement already satisfied: traitlets>=4.2 in /usr/local/lib/python3.7/dist-packages (from ipython>=4.0->ipythonblocks) (5.1.1)\n",
            "Requirement already satisfied: pygments in /usr/local/lib/python3.7/dist-packages (from ipython>=4.0->ipythonblocks) (2.6.1)\n",
            "Requirement already satisfied: pexpect in /usr/local/lib/python3.7/dist-packages (from ipython>=4.0->ipythonblocks) (4.8.0)\n",
            "Requirement already satisfied: pickleshare in /usr/local/lib/python3.7/dist-packages (from ipython>=4.0->ipythonblocks) (0.7.5)\n",
            "Requirement already satisfied: setuptools>=18.5 in /usr/local/lib/python3.7/dist-packages (from ipython>=4.0->ipythonblocks) (57.4.0)\n",
            "Requirement already satisfied: simplegeneric>0.8 in /usr/local/lib/python3.7/dist-packages (from ipython>=4.0->ipythonblocks) (0.8.1)\n",
            "Requirement already satisfied: prompt-toolkit<2.0.0,>=1.0.4 in /usr/local/lib/python3.7/dist-packages (from ipython>=4.0->ipythonblocks) (1.0.18)\n",
            "Requirement already satisfied: decorator in /usr/local/lib/python3.7/dist-packages (from ipython>=4.0->ipythonblocks) (4.4.2)\n",
            "Requirement already satisfied: ipython-genutils in /usr/local/lib/python3.7/dist-packages (from notebook>=4.0->ipythonblocks) (0.2.0)\n",
            "Requirement already satisfied: nbconvert in /usr/local/lib/python3.7/dist-packages (from notebook>=4.0->ipythonblocks) (5.6.1)\n",
            "Requirement already satisfied: jinja2 in /usr/local/lib/python3.7/dist-packages (from notebook>=4.0->ipythonblocks) (2.11.3)\n",
            "Requirement already satisfied: tornado>=4 in /usr/local/lib/python3.7/dist-packages (from notebook>=4.0->ipythonblocks) (5.1.1)\n",
            "Requirement already satisfied: ipykernel in /usr/local/lib/python3.7/dist-packages (from notebook>=4.0->ipythonblocks) (4.10.1)\n",
            "Requirement already satisfied: terminado>=0.8.1 in /usr/local/lib/python3.7/dist-packages (from notebook>=4.0->ipythonblocks) (0.13.3)\n",
            "Requirement already satisfied: jupyter-client>=5.2.0 in /usr/local/lib/python3.7/dist-packages (from notebook>=4.0->ipythonblocks) (5.3.5)\n",
            "Requirement already satisfied: Send2Trash in /usr/local/lib/python3.7/dist-packages (from notebook>=4.0->ipythonblocks) (1.8.0)\n",
            "Requirement already satisfied: nbformat in /usr/local/lib/python3.7/dist-packages (from notebook>=4.0->ipythonblocks) (5.3.0)\n",
            "Requirement already satisfied: jupyter-core>=4.4.0 in /usr/local/lib/python3.7/dist-packages (from notebook>=4.0->ipythonblocks) (4.10.0)\n",
            "Requirement already satisfied: pyzmq>=13 in /usr/local/lib/python3.7/dist-packages (from jupyter-client>=5.2.0->notebook>=4.0->ipythonblocks) (22.3.0)\n",
            "Requirement already satisfied: python-dateutil>=2.1 in /usr/local/lib/python3.7/dist-packages (from jupyter-client>=5.2.0->notebook>=4.0->ipythonblocks) (2.8.2)\n",
            "Requirement already satisfied: six>=1.9.0 in /usr/local/lib/python3.7/dist-packages (from prompt-toolkit<2.0.0,>=1.0.4->ipython>=4.0->ipythonblocks) (1.15.0)\n",
            "Requirement already satisfied: wcwidth in /usr/local/lib/python3.7/dist-packages (from prompt-toolkit<2.0.0,>=1.0.4->ipython>=4.0->ipythonblocks) (0.2.5)\n",
            "Requirement already satisfied: chardet<4,>=3.0.2 in /usr/local/lib/python3.7/dist-packages (from requests>=1.0->ipythonblocks) (3.0.4)\n",
            "Requirement already satisfied: certifi>=2017.4.17 in /usr/local/lib/python3.7/dist-packages (from requests>=1.0->ipythonblocks) (2021.10.8)\n",
            "Requirement already satisfied: idna<3,>=2.5 in /usr/local/lib/python3.7/dist-packages (from requests>=1.0->ipythonblocks) (2.10)\n",
            "Requirement already satisfied: urllib3!=1.25.0,!=1.25.1,<1.26,>=1.21.1 in /usr/local/lib/python3.7/dist-packages (from requests>=1.0->ipythonblocks) (1.24.3)\n",
            "Requirement already satisfied: ptyprocess in /usr/local/lib/python3.7/dist-packages (from terminado>=0.8.1->notebook>=4.0->ipythonblocks) (0.7.0)\n",
            "Requirement already satisfied: MarkupSafe>=0.23 in /usr/local/lib/python3.7/dist-packages (from jinja2->notebook>=4.0->ipythonblocks) (2.0.1)\n",
            "Requirement already satisfied: bleach in /usr/local/lib/python3.7/dist-packages (from nbconvert->notebook>=4.0->ipythonblocks) (5.0.0)\n",
            "Requirement already satisfied: pandocfilters>=1.4.1 in /usr/local/lib/python3.7/dist-packages (from nbconvert->notebook>=4.0->ipythonblocks) (1.5.0)\n",
            "Requirement already satisfied: defusedxml in /usr/local/lib/python3.7/dist-packages (from nbconvert->notebook>=4.0->ipythonblocks) (0.7.1)\n",
            "Requirement already satisfied: testpath in /usr/local/lib/python3.7/dist-packages (from nbconvert->notebook>=4.0->ipythonblocks) (0.6.0)\n",
            "Requirement already satisfied: mistune<2,>=0.8.1 in /usr/local/lib/python3.7/dist-packages (from nbconvert->notebook>=4.0->ipythonblocks) (0.8.4)\n",
            "Requirement already satisfied: entrypoints>=0.2.2 in /usr/local/lib/python3.7/dist-packages (from nbconvert->notebook>=4.0->ipythonblocks) (0.4)\n",
            "Requirement already satisfied: fastjsonschema in /usr/local/lib/python3.7/dist-packages (from nbformat->notebook>=4.0->ipythonblocks) (2.15.3)\n",
            "Requirement already satisfied: jsonschema>=2.6 in /usr/local/lib/python3.7/dist-packages (from nbformat->notebook>=4.0->ipythonblocks) (4.3.3)\n",
            "Requirement already satisfied: importlib-metadata in /usr/local/lib/python3.7/dist-packages (from jsonschema>=2.6->nbformat->notebook>=4.0->ipythonblocks) (4.11.3)\n",
            "Requirement already satisfied: attrs>=17.4.0 in /usr/local/lib/python3.7/dist-packages (from jsonschema>=2.6->nbformat->notebook>=4.0->ipythonblocks) (21.4.0)\n",
            "Requirement already satisfied: typing-extensions in /usr/local/lib/python3.7/dist-packages (from jsonschema>=2.6->nbformat->notebook>=4.0->ipythonblocks) (4.2.0)\n",
            "Requirement already satisfied: pyrsistent!=0.17.0,!=0.17.1,!=0.17.2,>=0.14.0 in /usr/local/lib/python3.7/dist-packages (from jsonschema>=2.6->nbformat->notebook>=4.0->ipythonblocks) (0.18.1)\n",
            "Requirement already satisfied: importlib-resources>=1.4.0 in /usr/local/lib/python3.7/dist-packages (from jsonschema>=2.6->nbformat->notebook>=4.0->ipythonblocks) (5.7.1)\n",
            "Requirement already satisfied: zipp>=3.1.0 in /usr/local/lib/python3.7/dist-packages (from importlib-resources>=1.4.0->jsonschema>=2.6->nbformat->notebook>=4.0->ipythonblocks) (3.8.0)\n",
            "Requirement already satisfied: webencodings in /usr/local/lib/python3.7/dist-packages (from bleach->nbconvert->notebook>=4.0->ipythonblocks) (0.5.1)\n"
          ]
        }
      ]
    },
    {
      "cell_type": "code",
      "source": [
        "from probability import *"
      ],
      "metadata": {
        "id": "CHJkwpu2rc6m"
      },
      "execution_count": 22,
      "outputs": []
    },
    {
      "cell_type": "markdown",
      "source": [
        "### [Question - State Transitions]\n",
        "If today is sunny what is the most likely forecast for the next two days if you have no umbrella observations to work with?"
      ],
      "metadata": {
        "id": "PYM2_QgTKEZ2"
      }
    },
    {
      "cell_type": "code",
      "source": [
        "# Training HMM model\n",
        "weather_HMModel = HiddenMarkovModel(P_transition, P_emission)\n",
        "\n",
        "# Today's Weather Probability\n",
        "todayWeather = np.array([1, 0, 0])\n",
        "\n",
        "# Tomorrow's Weather\n",
        "tomorrowWeather = forward(weather_HMModel, todayWeather, ev =True)\n",
        "tomorrowDictionary = dict(zip(tomorrowWeather, ['Sunny', 'Rainy', 'Foggy']))\n",
        "print(f'Most Likely Weather for Tomorrow : \"{tomorrowDictionary[max(tomorrowDictionary.keys())]}\" with Probability {round(max(tomorrowDictionary.keys()),5)}.')\n",
        "\n",
        "# Day After Tomorrow's Weather\n",
        "dayAfterTomorrowWeather = forward(weather_HMModel, tomorrowWeather, ev = True)\n",
        "dayAfterTomorrowDictionary = dict(zip(dayAfterTomorrowWeather, ['Sunny', 'Rainy', 'Foggy']))\n",
        "print(f'Most Likely Weather for Day-After-Tomorrow : \"{dayAfterTomorrowDictionary[max(dayAfterTomorrowDictionary.keys())]}\" with Probability : {round(max(dayAfterTomorrowDictionary.keys()),5)}.')\n"
      ],
      "metadata": {
        "id": "mEx9muMVLH0U",
        "colab": {
          "base_uri": "https://localhost:8080/"
        },
        "outputId": "bea49044-9e91-42b4-f22d-bf91bfc1eb07"
      },
      "execution_count": 23,
      "outputs": [
        {
          "output_type": "stream",
          "name": "stdout",
          "text": [
            "Most Likely Weather for Tomorrow : \"Sunny\" with Probability 0.86228.\n",
            "Most Likely Weather for Day-After-Tomorrow : \"Sunny\" with Probability : 0.85898.\n"
          ]
        }
      ]
    },
    {
      "cell_type": "markdown",
      "source": [
        "### [Question - Emission probabilities ]\n",
        "If on the first day you see no umbrella, what is the probability that it is rainy, foggy or sunny (Hint: remember the importance of overall probability of each state)?\n",
        "\n",
        "What is the most likely weather (hidden state)?"
      ],
      "metadata": {
        "id": "EP1-dHpnK_kn"
      }
    },
    {
      "cell_type": "code",
      "source": [
        "P_state_day0_given_umbrella = forward(weather_HMModel, P_init, ev =True)\n",
        "initialDictionary = dict(zip(P_state_day0_given_umbrella,['Sunny', 'Rainy', 'Foggy']))\n",
        "print(\"The most likely weather on the first day is ... \", initialDictionary[max(initialDictionary.keys())])\n",
        "\n",
        "for x, y in initialDictionary.items():\n",
        "  print(f'\\n\\tProbability of being \"{y}\" weather on the first day is {round(x,5)}')\n",
        "    "
      ],
      "metadata": {
        "colab": {
          "base_uri": "https://localhost:8080/"
        },
        "id": "cME3l65bLcjm",
        "outputId": "616f52a7-32db-4285-ddc1-9e1329f394ce"
      },
      "execution_count": 31,
      "outputs": [
        {
          "output_type": "stream",
          "name": "stdout",
          "text": [
            "The most likely weather on the first day is ...  Sunny\n",
            "\n",
            "\tProbability of being \"Sunny\" weather on the first day is 0.76777\n",
            "\n",
            "\tProbability of being \"Rainy\" weather on the first day is 0.06635\n",
            "\n",
            "\tProbability of being \"Foggy\" weather on the first day is 0.16588\n"
          ]
        }
      ]
    },
    {
      "cell_type": "markdown",
      "source": [
        "### Evidence / observations\n",
        "\n",
        "Now we will define the observations on each day - whether we observed an umbrella (1) or not (0). \n"
      ],
      "metadata": {
        "id": "6chDNxazJh4w"
      }
    },
    {
      "cell_type": "code",
      "source": [
        "### DO NOT CHANGE ###\n",
        "\n",
        "## 0 = no umbrella, 1 = umbrella\n",
        "E = [0, 0, 0, 1, 0, 0, 1, 1, 0, 1]"
      ],
      "metadata": {
        "id": "2sTDhFyECedd"
      },
      "execution_count": 25,
      "outputs": []
    },
    {
      "cell_type": "markdown",
      "metadata": {
        "id": "43OFPj-erMWJ"
      },
      "source": [
        "## Filtering\n",
        "\n",
        "*As a reminder*\n",
        "\n",
        "**Filtering**:\n",
        "Given observation sequence E(0), E(1), ..., E(T-1), compute P(X(T-1)|E(0), ..., E(T-1)).\n",
        "\n",
        "So we are computing the probability of the final state given our observations or evidence to date.\n",
        "\n",
        "We do this with the *Forward Algorithm* (see 15.2 in the text), which requires that we initialize probabilities at the first step using our 'prior' probability values of each underlying state. Then we update probabilities at each step (`Recursion`) using the prior step probabilities and given new evidence. We do this until we reach the end and then compute the total probability of each underlying state at the finel step."
      ]
    },
    {
      "cell_type": "markdown",
      "source": [
        "### Recursion (and initialization) function definition"
      ],
      "metadata": {
        "id": "Hw-UXGgV0fOP"
      }
    },
    {
      "cell_type": "code",
      "source": [
        "### DO NOT CHANGE ###\n",
        "\n",
        "# Normalize a probability distribution\n",
        "def normalize(pdist):\n",
        "   s = sum(pdist)\n",
        "   for i in range(0,len(pdist)):\n",
        "      pdist[i] = pdist[i] / s\n",
        "   return pdist\n",
        "\n",
        "DEBUG=True\n",
        "\n",
        "def init_and_recursion(Obs, S, init_prob, P_emission, P_transition):\n",
        "  ## a has a \"row\" for every observation and a \"column\" for every possible state\n",
        "  a = np.zeros((len(Obs), len(S)))\n",
        "  for t in range(0, len(Obs)):\n",
        "    print(f\".. (time {t}) Observation: {Obs[t]}\")\n",
        "    ## probability of a[0,:] is computed by summing over probabilities of all the \n",
        "    ## ways we could get to this \"path\" given where we left off at the previous\n",
        "    ## time step\n",
        "    if t == 0:\n",
        "      ##### Initialization\n",
        "      for j in range(len(S)):\n",
        "        #print(f\"t={t}, j={j}, S[j]={S[j]}, Obs[t]={Obs[t]}\")\n",
        "        a[t, j] = init_prob[j] * P_emission[Obs[t], S[j]]\n",
        "        current_state_total_prob = a[t, j]\n",
        "        print(f\".... Probability at state {S[j]}: {current_state_total_prob:.4f} (initial state)\")\n",
        "    else:    \n",
        "      ## we need to compute a probability for each of the possible states\n",
        "      for j in range(len(S)): ## for each of the present states\n",
        "        S_curr = S[j]\n",
        "        ## we need to sum over all of the previous states to get current state prob\n",
        "        ## we'll keep track of that probability to sum up here\n",
        "        current_state_total_prob = 0.0\n",
        "        for k in range(len(S)): ## for each of the possible previous states\n",
        "          S_prev = S[k] ## possible previous state that we came from\n",
        "          if DEBUG:\n",
        "            print(f\"......Transition from state={S_prev} to state={S_prev}\")\n",
        "            print(f\"        Calculation: \")\n",
        "            print(f\"        {a[t-1, k]:.2f} * {P_emission[Obs[t], S[j]]:.2f} * {P_transition[S_prev, S_curr]:.2f}\")\n",
        "          current_state_total_prob += a[t-1, k] * P_emission[Obs[t], S[j]] * P_transition[S_prev, S_curr]\n",
        "        a[t, j] = current_state_total_prob\n",
        "    a[t,:] = normalize(a[t,:])\n",
        "    print(f\".... State probabilities: {a[t, :]}\")\n",
        "  return a"
      ],
      "metadata": {
        "id": "WqYrklx1xETE"
      },
      "execution_count": 26,
      "outputs": []
    },
    {
      "cell_type": "markdown",
      "source": [
        "### Termination function definition"
      ],
      "metadata": {
        "id": "R9w5b_dy0k-u"
      }
    },
    {
      "cell_type": "code",
      "source": [
        "### DO NOT CHANGE ###\n",
        "\n",
        "def termination(a):\n",
        "  total_ending_prob = 0\n",
        "  T = a.shape[0]-1 ## last time point\n",
        "  for i in range(len(a[T, :])):\n",
        "    total_ending_prob += a[T, i]\n",
        "  print(f\"\\nProbability of each potential state: {a[T]}\")"
      ],
      "metadata": {
        "id": "eaZ6eXNxxzjR"
      },
      "execution_count": 27,
      "outputs": []
    },
    {
      "cell_type": "markdown",
      "source": [
        "### [Question - Final state]\n",
        "What is the most likely final state (most likely weather)? How much more likely is the final weather than the other two options?\n",
        "\n",
        "Use the above recursion and initialization function to compute the most likely state at the end (the filtering problem)."
      ],
      "metadata": {
        "id": "HgSvmWiGPHof"
      }
    },
    {
      "cell_type": "code",
      "source": [
        "### FINAL-STATE CODE ###\n",
        "\n",
        "lastDay = init_and_recursion(E, S, P_init, P_emission, P_transition)\n",
        "finalState = termination(lastDay)\n",
        "finalState"
      ],
      "metadata": {
        "id": "f6XyS-8pPS5z",
        "colab": {
          "base_uri": "https://localhost:8080/"
        },
        "outputId": "b8e342b7-4d86-403f-b392-144824547fc6"
      },
      "execution_count": 28,
      "outputs": [
        {
          "output_type": "stream",
          "name": "stdout",
          "text": [
            ".. (time 0) Observation: 0\n",
            ".... Probability at state 0: 0.4500 (initial state)\n",
            ".... Probability at state 1: 0.0500 (initial state)\n",
            ".... Probability at state 2: 0.1750 (initial state)\n",
            ".... State probabilities: [0.66666667 0.07407407 0.25925926]\n",
            ".. (time 1) Observation: 0\n",
            "......Transition from state=0 to state=0\n",
            "        Calculation: \n",
            "        0.67 * 0.90 * 0.80\n",
            "......Transition from state=1 to state=1\n",
            "        Calculation: \n",
            "        0.07 * 0.90 * 0.20\n",
            "......Transition from state=2 to state=2\n",
            "        Calculation: \n",
            "        0.26 * 0.90 * 0.20\n",
            "......Transition from state=0 to state=0\n",
            "        Calculation: \n",
            "        0.67 * 0.20 * 0.05\n",
            "......Transition from state=1 to state=1\n",
            "        Calculation: \n",
            "        0.07 * 0.20 * 0.60\n",
            "......Transition from state=2 to state=2\n",
            "        Calculation: \n",
            "        0.26 * 0.20 * 0.30\n",
            "......Transition from state=0 to state=0\n",
            "        Calculation: \n",
            "        0.67 * 0.70 * 0.15\n",
            "......Transition from state=1 to state=1\n",
            "        Calculation: \n",
            "        0.07 * 0.70 * 0.20\n",
            "......Transition from state=2 to state=2\n",
            "        Calculation: \n",
            "        0.26 * 0.70 * 0.50\n",
            ".... State probabilities: [0.72754491 0.04191617 0.23053892]\n",
            ".. (time 2) Observation: 0\n",
            "......Transition from state=0 to state=0\n",
            "        Calculation: \n",
            "        0.73 * 0.90 * 0.80\n",
            "......Transition from state=1 to state=1\n",
            "        Calculation: \n",
            "        0.04 * 0.90 * 0.20\n",
            "......Transition from state=2 to state=2\n",
            "        Calculation: \n",
            "        0.23 * 0.90 * 0.20\n",
            "......Transition from state=0 to state=0\n",
            "        Calculation: \n",
            "        0.73 * 0.20 * 0.05\n",
            "......Transition from state=1 to state=1\n",
            "        Calculation: \n",
            "        0.04 * 0.20 * 0.60\n",
            "......Transition from state=2 to state=2\n",
            "        Calculation: \n",
            "        0.23 * 0.20 * 0.30\n",
            "......Transition from state=0 to state=0\n",
            "        Calculation: \n",
            "        0.73 * 0.70 * 0.15\n",
            "......Transition from state=1 to state=1\n",
            "        Calculation: \n",
            "        0.04 * 0.70 * 0.20\n",
            "......Transition from state=2 to state=2\n",
            "        Calculation: \n",
            "        0.23 * 0.70 * 0.50\n",
            ".... State probabilities: [0.75184188 0.03430323 0.21385489]\n",
            ".. (time 3) Observation: 1\n",
            "......Transition from state=0 to state=0\n",
            "        Calculation: \n",
            "        0.75 * 0.10 * 0.80\n",
            "......Transition from state=1 to state=1\n",
            "        Calculation: \n",
            "        0.03 * 0.10 * 0.20\n",
            "......Transition from state=2 to state=2\n",
            "        Calculation: \n",
            "        0.21 * 0.10 * 0.20\n",
            "......Transition from state=0 to state=0\n",
            "        Calculation: \n",
            "        0.75 * 0.80 * 0.05\n",
            "......Transition from state=1 to state=1\n",
            "        Calculation: \n",
            "        0.03 * 0.80 * 0.60\n",
            "......Transition from state=2 to state=2\n",
            "        Calculation: \n",
            "        0.21 * 0.80 * 0.30\n",
            "......Transition from state=0 to state=0\n",
            "        Calculation: \n",
            "        0.75 * 0.30 * 0.15\n",
            "......Transition from state=1 to state=1\n",
            "        Calculation: \n",
            "        0.03 * 0.30 * 0.20\n",
            "......Transition from state=2 to state=2\n",
            "        Calculation: \n",
            "        0.21 * 0.30 * 0.50\n",
            ".... State probabilities: [0.28193177 0.42375772 0.29431051]\n",
            ".. (time 4) Observation: 0\n",
            "......Transition from state=0 to state=0\n",
            "        Calculation: \n",
            "        0.28 * 0.90 * 0.80\n",
            "......Transition from state=1 to state=1\n",
            "        Calculation: \n",
            "        0.42 * 0.90 * 0.20\n",
            "......Transition from state=2 to state=2\n",
            "        Calculation: \n",
            "        0.29 * 0.90 * 0.20\n",
            "......Transition from state=0 to state=0\n",
            "        Calculation: \n",
            "        0.28 * 0.20 * 0.05\n",
            "......Transition from state=1 to state=1\n",
            "        Calculation: \n",
            "        0.42 * 0.20 * 0.60\n",
            "......Transition from state=2 to state=2\n",
            "        Calculation: \n",
            "        0.29 * 0.20 * 0.30\n",
            "......Transition from state=0 to state=0\n",
            "        Calculation: \n",
            "        0.28 * 0.70 * 0.15\n",
            "......Transition from state=1 to state=1\n",
            "        Calculation: \n",
            "        0.42 * 0.70 * 0.20\n",
            "......Transition from state=2 to state=2\n",
            "        Calculation: \n",
            "        0.29 * 0.70 * 0.50\n",
            ".... State probabilities: [0.557914   0.11977787 0.32230813]\n",
            ".. (time 5) Observation: 0\n",
            "......Transition from state=0 to state=0\n",
            "        Calculation: \n",
            "        0.56 * 0.90 * 0.80\n",
            "......Transition from state=1 to state=1\n",
            "        Calculation: \n",
            "        0.12 * 0.90 * 0.20\n",
            "......Transition from state=2 to state=2\n",
            "        Calculation: \n",
            "        0.32 * 0.90 * 0.20\n",
            "......Transition from state=0 to state=0\n",
            "        Calculation: \n",
            "        0.56 * 0.20 * 0.05\n",
            "......Transition from state=1 to state=1\n",
            "        Calculation: \n",
            "        0.12 * 0.20 * 0.60\n",
            "......Transition from state=2 to state=2\n",
            "        Calculation: \n",
            "        0.32 * 0.20 * 0.30\n",
            "......Transition from state=0 to state=0\n",
            "        Calculation: \n",
            "        0.56 * 0.70 * 0.15\n",
            "......Transition from state=1 to state=1\n",
            "        Calculation: \n",
            "        0.12 * 0.70 * 0.20\n",
            "......Transition from state=2 to state=2\n",
            "        Calculation: \n",
            "        0.32 * 0.70 * 0.50\n",
            ".... State probabilities: [0.67907217 0.05543917 0.26548866]\n",
            ".. (time 6) Observation: 1\n",
            "......Transition from state=0 to state=0\n",
            "        Calculation: \n",
            "        0.68 * 0.10 * 0.80\n",
            "......Transition from state=1 to state=1\n",
            "        Calculation: \n",
            "        0.06 * 0.10 * 0.20\n",
            "......Transition from state=2 to state=2\n",
            "        Calculation: \n",
            "        0.27 * 0.10 * 0.20\n",
            "......Transition from state=0 to state=0\n",
            "        Calculation: \n",
            "        0.68 * 0.80 * 0.05\n",
            "......Transition from state=1 to state=1\n",
            "        Calculation: \n",
            "        0.06 * 0.80 * 0.60\n",
            "......Transition from state=2 to state=2\n",
            "        Calculation: \n",
            "        0.27 * 0.80 * 0.30\n",
            "......Transition from state=0 to state=0\n",
            "        Calculation: \n",
            "        0.68 * 0.30 * 0.15\n",
            "......Transition from state=1 to state=1\n",
            "        Calculation: \n",
            "        0.06 * 0.30 * 0.20\n",
            "......Transition from state=2 to state=2\n",
            "        Calculation: \n",
            "        0.27 * 0.30 * 0.50\n",
            ".... State probabilities: [0.24110328 0.46633912 0.2925576 ]\n",
            ".. (time 7) Observation: 1\n",
            "......Transition from state=0 to state=0\n",
            "        Calculation: \n",
            "        0.24 * 0.10 * 0.80\n",
            "......Transition from state=1 to state=1\n",
            "        Calculation: \n",
            "        0.47 * 0.10 * 0.20\n",
            "......Transition from state=2 to state=2\n",
            "        Calculation: \n",
            "        0.29 * 0.10 * 0.20\n",
            "......Transition from state=0 to state=0\n",
            "        Calculation: \n",
            "        0.24 * 0.80 * 0.05\n",
            "......Transition from state=1 to state=1\n",
            "        Calculation: \n",
            "        0.47 * 0.80 * 0.60\n",
            "......Transition from state=2 to state=2\n",
            "        Calculation: \n",
            "        0.29 * 0.80 * 0.30\n",
            "......Transition from state=0 to state=0\n",
            "        Calculation: \n",
            "        0.24 * 0.30 * 0.15\n",
            "......Transition from state=1 to state=1\n",
            "        Calculation: \n",
            "        0.47 * 0.30 * 0.20\n",
            "......Transition from state=2 to state=2\n",
            "        Calculation: \n",
            "        0.29 * 0.30 * 0.50\n",
            ".... State probabilities: [0.08189068 0.72158412 0.1965252 ]\n",
            ".. (time 8) Observation: 0\n",
            "......Transition from state=0 to state=0\n",
            "        Calculation: \n",
            "        0.08 * 0.90 * 0.80\n",
            "......Transition from state=1 to state=1\n",
            "        Calculation: \n",
            "        0.72 * 0.90 * 0.20\n",
            "......Transition from state=2 to state=2\n",
            "        Calculation: \n",
            "        0.20 * 0.90 * 0.20\n",
            "......Transition from state=0 to state=0\n",
            "        Calculation: \n",
            "        0.08 * 0.20 * 0.05\n",
            "......Transition from state=1 to state=1\n",
            "        Calculation: \n",
            "        0.72 * 0.20 * 0.60\n",
            "......Transition from state=2 to state=2\n",
            "        Calculation: \n",
            "        0.20 * 0.20 * 0.30\n",
            "......Transition from state=0 to state=0\n",
            "        Calculation: \n",
            "        0.08 * 0.70 * 0.15\n",
            "......Transition from state=1 to state=1\n",
            "        Calculation: \n",
            "        0.72 * 0.70 * 0.20\n",
            "......Transition from state=2 to state=2\n",
            "        Calculation: \n",
            "        0.20 * 0.70 * 0.50\n",
            ".... State probabilities: [0.44681054 0.19767926 0.3555102 ]\n",
            ".. (time 9) Observation: 1\n",
            "......Transition from state=0 to state=0\n",
            "        Calculation: \n",
            "        0.45 * 0.10 * 0.80\n",
            "......Transition from state=1 to state=1\n",
            "        Calculation: \n",
            "        0.20 * 0.10 * 0.20\n",
            "......Transition from state=2 to state=2\n",
            "        Calculation: \n",
            "        0.36 * 0.10 * 0.20\n",
            "......Transition from state=0 to state=0\n",
            "        Calculation: \n",
            "        0.45 * 0.80 * 0.05\n",
            "......Transition from state=1 to state=1\n",
            "        Calculation: \n",
            "        0.20 * 0.80 * 0.60\n",
            "......Transition from state=2 to state=2\n",
            "        Calculation: \n",
            "        0.36 * 0.80 * 0.30\n",
            "......Transition from state=0 to state=0\n",
            "        Calculation: \n",
            "        0.45 * 0.30 * 0.15\n",
            "......Transition from state=1 to state=1\n",
            "        Calculation: \n",
            "        0.20 * 0.30 * 0.20\n",
            "......Transition from state=2 to state=2\n",
            "        Calculation: \n",
            "        0.36 * 0.30 * 0.50\n",
            ".... State probabilities: [0.14176559 0.59991196 0.25832245]\n",
            "\n",
            "Probability of each potential state: [0.14176559 0.59991196 0.25832245]\n"
          ]
        }
      ]
    },
    {
      "cell_type": "markdown",
      "source": [
        "### [Question - Plot probabilities ]\n",
        "\n",
        "Use the [PyPlot](https://matplotlib.org/stable/tutorials/introductory/pyplot.html#:~:text=the%20pyplot%20interface.-,Intro%20to%20pyplot,the%20plot%20with%20labels%2C%20etc.) library to plot the transition probabilities over time."
      ],
      "metadata": {
        "id": "i0NImz58WoFK"
      }
    },
    {
      "cell_type": "code",
      "source": [
        "### PLOT PROBABILITIES CODE ###\n",
        "\n",
        "import matplotlib.pyplot as plt\n",
        "%matplotlib inline\n",
        "\n",
        "stateDictionary = dict(zip(S, ['Sunny', 'Rainy', 'Foggy']))\n",
        "\n",
        "plt.plot(lastDay)\n",
        "plt.xlabel('Number of Observed Days')\n",
        "plt.ylabel('State Probabilities')\n",
        "plt.title('Weather State across Observed Days')\n",
        "plt.legend(stateDictionary.values())"
      ],
      "metadata": {
        "id": "y12aUJ0rWmtK",
        "colab": {
          "base_uri": "https://localhost:8080/",
          "height": 313
        },
        "outputId": "39b55c5b-0de1-4aa1-afe5-77a0ae9904df"
      },
      "execution_count": 29,
      "outputs": [
        {
          "output_type": "execute_result",
          "data": {
            "text/plain": [
              "<matplotlib.legend.Legend at 0x7fc7a5126810>"
            ]
          },
          "metadata": {},
          "execution_count": 29
        },
        {
          "output_type": "display_data",
          "data": {
            "text/plain": [
              "<Figure size 432x288 with 1 Axes>"
            ],
            "image/png": "[encoded data removed]"
          },
          "metadata": {
            "needs_background": "light"
          }
        }
      ]
    },
    {
      "cell_type": "markdown",
      "source": [
        "## OBSERVATION\n",
        "\n",
        "From the above observations, it has been figured out that on the 10th day the probability of having a \"RAINY\" day is the highest. The probability of being a \"FOGGY\" day is followed after which then comes the probability of being a \"SUNNY\" day at the last position."
      ],
      "metadata": {
        "id": "WsFk0fbgvyrt"
      }
    }
  ]
}