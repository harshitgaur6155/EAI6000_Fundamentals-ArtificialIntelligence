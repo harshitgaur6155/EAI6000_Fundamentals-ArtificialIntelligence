{
  "nbformat": 4,
  "nbformat_minor": 0,
  "metadata": {
    "colab": {
      "name": "eai6000_m02_hw - bugfix.ipynb",
      "provenance": [],
      "collapsed_sections": []
    },
    "kernelspec": {
      "name": "python3",
      "display_name": "Python 3"
    },
    "language_info": {
      "name": "python"
    }
  },
  "cells": [
    {
      "cell_type": "markdown",
      "metadata": {
        "id": "dB4_y4GBm0tt"
      },
      "source": [
        "# A-Star Search Algorithm"
      ]
    },
    {
      "cell_type": "markdown",
      "metadata": {
        "id": "hRmWMPwTm5Ob"
      },
      "source": [
        "This notebook complements the walkthrough article [here](https://towardsdatascience.com/a-star-a-search-algorithm-eb495fb156bb) on the A-Star search algorithm. Throughout the notebook, we ask to you finish sections on your own and answer questions."
      ]
    },
    {
      "cell_type": "markdown",
      "metadata": {
        "id": "auBnTGWHoMle"
      },
      "source": [
        "## [Question - Describe A*]\n",
        "Question: Describe A&ast; search in your own words."
      ]
    },
    {
      "cell_type": "markdown",
      "source": [
        "Answer: </br>\n",
        ">*A-Star (A&ast;) algorithm is a path-finding algorithm that looks for the shortest path between the starting and ending states. It's utilized in a variety of applications, such as maps.*\n",
        "\n",
        ">*The A&ast; algorithm is used to find the shortest distance between a source (initial state) and a destination (final state).*"
      ],
      "metadata": {
        "id": "SzE0yCqrucUp"
      }
    },
    {
      "cell_type": "markdown",
      "metadata": {
        "id": "FsP7pSLAoooN"
      },
      "source": [
        "## [Question - Describe h and g]\n",
        "Question: *In A&ast; search, describe the two key elements of f(n) (namely h(n) and g(n)). What do they represent in the algorithm and how do they differ?*"
      ]
    },
    {
      "cell_type": "markdown",
      "source": [
        "Answer: </br>\n",
        ">*In A&ast; search algorithm, there are 2 key elements namely g(n) and h(n). The significance of these 2 are:*\n",
        "\n",
        ">**g(n)**: *The cost of moving from the first cell/node to the present one (n). It's basically the sum of all the cells that have been visited since the initial one.*\n",
        "\n",
        ">**h(n)**: *The projected cost of travelling from the present cell/node (n) to the final cell is h, often known as the heuristic value. The final cell must be reached before the exact cost can be determined. As a result, h represents the estimated cost. We must make certain that the cost is never underestimated.*"
      ],
      "metadata": {
        "id": "QBkOWz83u0yV"
      }
    },
    {
      "cell_type": "markdown",
      "metadata": {
        "id": "-_VkEgNWuMDK"
      },
      "source": [
        "## [Activity - run Node]\n",
        "Examine and run the below code."
      ]
    },
    {
      "cell_type": "code",
      "metadata": {
        "id": "ufRvBVJBmmxA"
      },
      "source": [
        "\n",
        "class Node():\n",
        "    \"\"\"A node class for A* Pathfinding\"\"\"\n",
        "\n",
        "    def __init__(self, parent=None, position=None):\n",
        "        self.parent = parent\n",
        "        self.position = position\n",
        "\n",
        "        self.g = 0\n",
        "        self.h = 0\n",
        "        self.f = 0\n",
        "\n",
        "    def __eq__(self, other):\n",
        "        return self.position == other.position"
      ],
      "execution_count": 1,
      "outputs": []
    },
    {
      "cell_type": "markdown",
      "metadata": {
        "id": "Ucsmb_lfuTrp"
      },
      "source": [
        "## [Question - Explain 'Node']\n",
        "In your own words, describe what the purpose of the *Node* class is. Why do we have to initialize a parent and a position?"
      ]
    },
    {
      "cell_type": "markdown",
      "source": [
        "Answer: </br>\n",
        ">*The 'Node' class is an initiator which creates objects of the nodes to be used in the program. Objects created by this Node class has all of the node's attributes, such as its parent, location, and all three costs (g, h, and f).*\n",
        "\n",
        ">*This Node class will create objects for both parent node and their children nodes. Children nodes will need to have information about their parent. Moreover, a node should be able to identify its position in the maze. There can not be rogue nodes wavering the maze and each node is assigned a place to be at. Therefore, it is important to initialize a parent (if applicable) and a position when creating objects using Node class.*"
      ],
      "metadata": {
        "id": "31M1_7IkD_v3"
      }
    },
    {
      "cell_type": "markdown",
      "metadata": {
        "id": "B6s0TVMuur8t"
      },
      "source": [
        "## [Activity - Run astar() ]"
      ]
    },
    {
      "cell_type": "code",
      "metadata": {
        "id": "wYzrkdjZpxZs"
      },
      "source": [
        "import sys\n",
        "\n",
        "def astar(maze, start, end):\n",
        "    \"\"\"Returns a list of tuples as a path from the given start to the given end in the given maze\"\"\"\n",
        "\n",
        "    # Create start and end node\n",
        "    start_node = Node(None, start)\n",
        "    start_node.g = start_node.h = start_node.f = 0\n",
        "    end_node = Node(None, end)\n",
        "    end_node.g = end_node.h = end_node.f = 0\n",
        "\n",
        "    # Initialize both open and closed list\n",
        "    open_list = []\n",
        "    closed_list = []\n",
        "\n",
        "    # Add the start node\n",
        "    open_list.append(start_node)\n",
        "\n",
        "    # Loop until you find the end\n",
        "    while len(open_list) > 0:\n",
        "\n",
        "        # Get the current node\n",
        "        current_node = open_list[0]\n",
        "        current_index = 0\n",
        "        for index, item in enumerate(open_list):\n",
        "            if item.f < current_node.f:\n",
        "                current_node = item\n",
        "                current_index = index\n",
        "\n",
        "        # Pop current off open list, add to closed list\n",
        "        open_list.pop(current_index)\n",
        "        closed_list.append(current_node)\n",
        "\n",
        "        # Found the goal\n",
        "        if current_node == end_node:\n",
        "            path = []\n",
        "            current = current_node\n",
        "            while current is not None:\n",
        "                path.append(current.position)\n",
        "                current = current.parent\n",
        "            return path[::-1] # Return reversed path\n",
        "\n",
        "        # Generate children\n",
        "        children = []\n",
        "        for new_position in [(0, -1), (0, 1), (-1, 0), (1, 0), (-1, -1), (-1, 1), (1, -1), (1, 1)]: # Adjacent squares\n",
        "\n",
        "            # Get node position\n",
        "            node_position = (current_node.position[0] + new_position[0], current_node.position[1] + new_position[1])\n",
        "\n",
        "            # Make sure within range\n",
        "            if node_position[0] > (len(maze) - 1) or node_position[0] < 0 or node_position[1] > (len(maze[len(maze)-1]) -1) or node_position[1] < 0:\n",
        "                continue\n",
        "\n",
        "            # Make sure walkable terrain\n",
        "            if maze[node_position[0]][node_position[1]] != 0:\n",
        "                continue\n",
        "\n",
        "            # Create new node\n",
        "            new_node = Node(current_node, node_position)\n",
        "\n",
        "            # Append\n",
        "            children.append(new_node)\n",
        "\n",
        "        # Loop through children\n",
        "        for child in children:\n",
        "\n",
        "            # Child is on the closed list\n",
        "            if child in closed_list:\n",
        "              continue\n",
        "\n",
        "            # Create the f, g, and h values\n",
        "            child.g = current_node.g + 1\n",
        "            child.h = ((child.position[0] - end_node.position[0]) ** 2) + ((child.position[1] - end_node.position[1]) ** 2)\n",
        "            child.f = child.g + child.h\n",
        "\n",
        "            # Child is already in the open list\n",
        "            for open_node in open_list:\n",
        "                if child == open_node and child.g > open_node.g:\n",
        "                    continue\n",
        "\n",
        "            # Add the child to the open list\n",
        "            open_list.append(child)\n"
      ],
      "execution_count": 2,
      "outputs": []
    },
    {
      "cell_type": "markdown",
      "metadata": {
        "id": "hral7UX2vF0z"
      },
      "source": [
        "## [Question - Explain maze]\n",
        "What type of input should value of *maze* be?"
      ]
    },
    {
      "cell_type": "markdown",
      "source": [
        "Answer: </br>\n",
        ">*The type of input of maze should be either be -*\n",
        "\n",
        ">*   *NESTED TUPPLE*\n",
        ">*   *TUPPLE of DICTIONARIES*\n",
        "\n",
        ">*The nested part refers to multiple number of nodes in a row and column as well.*\n",
        "\n",
        ">*The next important part in this maze is that the value '0' is the walkable path. Even the end node should be a walkable node (having value 0) to be able to be reached. Nodes with any other value than '0' are not walkable.*"
      ],
      "metadata": {
        "id": "qMCwfJjKG6V3"
      }
    },
    {
      "cell_type": "markdown",
      "metadata": {
        "id": "EcB70Wbet1-w"
      },
      "source": [
        "## [Question - Build Main]\n",
        "Please use the above code that uses the astar() function to define a path from the beginning to the end of a maze. You can choose how the maze looks and where the start and end are."
      ]
    },
    {
      "cell_type": "code",
      "metadata": {
        "id": "MY8tTsSbt1XE",
        "colab": {
          "base_uri": "https://localhost:8080/"
        },
        "outputId": "c65c3376-fde5-44ca-e28c-997c5f573b07"
      },
      "source": [
        "## Building Main Function\n",
        "\n",
        "def main(maze, start, end):\n",
        "    return astar(maze, start, end)\n",
        "\n",
        "## Defining the 'Maze' value\n",
        "maze = (\n",
        "          (0,1,1,0,0,0),\n",
        "          (0,0,0,0,1,0),\n",
        "          (0,1,1,1,1,0),\n",
        "          (0,1,0,0,0,0),\n",
        "          (0,0,1,0,1,0),\n",
        "        )\n",
        "\n",
        "## Defining the 'start', and 'end' values\n",
        "start = (0,0)\n",
        "end = (4,5)\n",
        "\n",
        "## Call to the main function to retrieve the solved path\n",
        "path = main(maze, start, end)\n",
        "print(path)"
      ],
      "execution_count": 3,
      "outputs": [
        {
          "output_type": "stream",
          "name": "stdout",
          "text": [
            "[(0, 0), (1, 1), (1, 2), (1, 3), (0, 4), (1, 5), (2, 5), (3, 5), (4, 5)]\n"
          ]
        }
      ]
    },
    {
      "cell_type": "markdown",
      "metadata": {
        "id": "_t_M9LWSwc79"
      },
      "source": [
        "## [Question - Impossible Maze]\n",
        "Now create a maze that the algorithm cannot solve. What is the output of the algorithm?"
      ]
    },
    {
      "cell_type": "markdown",
      "source": [
        "Answer:</br>\n",
        ">The outcome comes out to be 'NONE' in case of impossible maze."
      ],
      "metadata": {
        "id": "P612wCNFlsrJ"
      }
    },
    {
      "cell_type": "code",
      "metadata": {
        "id": "yoQ3fuVbwnuv",
        "colab": {
          "base_uri": "https://localhost:8080/"
        },
        "outputId": "01b917fd-39dd-4463-bec3-73fa2af56493"
      },
      "source": [
        "## Impossible Maze\n",
        "\n",
        "## Defining the 'Maze' value\n",
        "maze = (\n",
        "          (0,0,0,0,0,1),\n",
        "          (0,0,0,1,1,0),\n",
        "          (0,1,0,1,1,1),\n",
        "          (0,1,0,0,1,0),\n",
        "          (0,1,0,0,1,1),\n",
        "        )\n",
        "\n",
        "## Defining the 'start', and 'end' values\n",
        "start = (0,0)\n",
        "end = (4,5)\n",
        "\n",
        "## Call to the main function to retrieve the solved path\n",
        "path = main(maze, start, end)\n",
        "print(path)"
      ],
      "execution_count": 4,
      "outputs": [
        {
          "output_type": "stream",
          "name": "stdout",
          "text": [
            "None\n"
          ]
        }
      ]
    }
  ]
}